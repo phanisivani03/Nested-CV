{
 "cells": [
  {
   "cell_type": "code",
   "execution_count": 5,
   "id": "a0b219b2",
   "metadata": {},
   "outputs": [
    {
     "name": "stdout",
     "output_type": "stream",
     "text": [
      "False\n",
      "False\n",
      "True\n"
     ]
    }
   ],
   "source": [
    "import pandas as pd\n",
    "from types import GeneratorType\n",
    "\n",
    "class NestedCV:\n",
    "    def __init__(self, k):\n",
    "        self.k = k\n",
    "\n",
    "    def split(self, data, date_column):\n",
    "        # Sort data by date\n",
    "        data = data.sort_values(by=date_column)\n",
    "        \n",
    "        # Calculate fold size\n",
    "        fold_size = len(data) // self.k\n",
    "        \n",
    "        # Generate train-validate splits\n",
    "        for i in range(self.k):\n",
    "            start_idx = i * fold_size\n",
    "            end_idx = min(start_idx + fold_size, len(data))\n",
    "            \n",
    "            validate = data.iloc[start_idx:end_idx]\n",
    "            train = pd.concat([data.iloc[:start_idx], data.iloc[end_idx:]], ignore_index=True)\n",
    "\n",
    "            \n",
    "            yield train, validate\n",
    "\n",
    "if __name__ == \"__main__\":\n",
    "    # load dataset\n",
    "    data = pd.read_csv(\"path to dataset\")\n",
    "    data[\"date\"] = pd.to_datetime(data[\"date\"])\n",
    "\n",
    "    # nested cv\n",
    "    k = 3\n",
    "    cv = NestedCV(k)\n",
    "    splits = cv.split(data, \"date\")\n",
    "\n",
    "    # check return type\n",
    "    assert isinstance(splits, GeneratorType)\n",
    "\n",
    "    # check return types, shapes, and data leaks\n",
    "    count = 0\n",
    "    for train, validate in splits:\n",
    "        # types\n",
    "        assert isinstance(train, pd.DataFrame)\n",
    "        assert isinstance(validate, pd.DataFrame)\n",
    "\n",
    "        # shape\n",
    "        assert train.shape[1] == validate.shape[1]\n",
    "\n",
    "        # data leak\n",
    "        print(train[\"date\"].max() <= validate[\"date\"].min())\n",
    "\n",
    "        count += 1\n",
    "\n",
    "    # check number of splits returned\n",
    "    assert count == k\n"
   ]
  },
  {
   "cell_type": "code",
   "execution_count": null,
   "id": "7f77edf0",
   "metadata": {},
   "outputs": [],
   "source": []
  }
 ],
 "metadata": {
  "kernelspec": {
   "display_name": "Python 3 (ipykernel)",
   "language": "python",
   "name": "python3"
  },
  "language_info": {
   "codemirror_mode": {
    "name": "ipython",
    "version": 3
   },
   "file_extension": ".py",
   "mimetype": "text/x-python",
   "name": "python",
   "nbconvert_exporter": "python",
   "pygments_lexer": "ipython3",
   "version": "3.9.13"
  }
 },
 "nbformat": 4,
 "nbformat_minor": 5
}
